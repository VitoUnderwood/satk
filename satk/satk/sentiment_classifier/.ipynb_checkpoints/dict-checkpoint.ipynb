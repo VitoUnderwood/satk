{
 "cells": [
  {
   "cell_type": "code",
   "execution_count": 52,
   "metadata": {
    "scrolled": true
   },
   "outputs": [
    {
     "name": "stdout",
     "output_type": "stream",
     "text": [
      "   Unnamed: 0                                             review\n",
      "0           0                             纯属吃饱了撑得，一张照片愣是能写出一部剧来了\n",
      "1           1  z桃子-：张大大还坐了c位呢，这明显不成立，别把电视剧搬进现实，你又不是那个圈子的人门清？[...\n",
      "2           2                                     原来见过面：不然怎么有人记得\n",
      "3           3                                 -周一日记：网友就是这样啊闲出屁了都\n",
      "4           4                                 为啥老是恶意揣摩别人啊美女爱站那站那\n"
     ]
    },
    {
     "name": "stderr",
     "output_type": "stream",
     "text": [
      "/Users/vito/opt/anaconda3/envs/ml/lib/python3.7/xml/etree/ElementTree.py:1554: ResourceWarning: unclosed file <_io.TextIOWrapper name='Emotion_features.csv' mode='a+' encoding='utf8'>\n",
      "  return self.target.start(tag, attrib)\n",
      "ResourceWarning: Enable tracemalloc to get the object allocation traceback\n"
     ]
    },
    {
     "name": "stdout",
     "output_type": "stream",
     "text": [
      "   词语  词性种类  词义数  词义序号 情感分类  强度  极性 辅助情感分类  强度.1  极性.1 Unnamed: 10  \\\n",
      "0  脏乱   adj  1.0   1.0   NN   7   2    NaN   NaN   NaN         NaN   \n",
      "1  糟报   adj  1.0   1.0   NN   5   2    NaN   NaN   NaN         NaN   \n",
      "2  早衰   adj  1.0   1.0   NE   5   2    NaN   NaN   NaN         NaN   \n",
      "3  责备  verb  1.0   1.0   NN   5   2    NaN   NaN   NaN         NaN   \n",
      "4  贼眼  noun  1.0   1.0   NN   5   2    NaN   NaN   NaN         NaN   \n",
      "\n",
      "   Unnamed: 11  \n",
      "0          NaN  \n",
      "1          NaN  \n",
      "2          NaN  \n",
      "3          NaN  \n",
      "4          NaN  \n",
      "情绪词语列表整理完成\n"
     ]
    }
   ],
   "source": [
    "# coding: utf-8\n",
    "import pandas as pd\n",
    "import jieba\n",
    "import time\n",
    "\n",
    "#-------------------------------------获取数据集---------------------------------\n",
    "weibo_df = pd.read_csv('../../../datasets/1.csv').astype(str) \n",
    "print(weibo_df.head())\n",
    "\n",
    "#-------------------------------------情感词典读取-------------------------------\n",
    "#注意：\n",
    "#1.词典中怒的标记(NA)识别不出被当作空值,情感分类列中的NA都给替换成NAU\n",
    "#2.大连理工词典中有情感分类的辅助标注(有NA),故把情感分类列改好再替换原词典中\n",
    "\n",
    "# 扩展前的词典\n",
    "df = pd.read_excel('../../../datasets/大连理工大学中文情感词汇本体NAU.xlsx', engine=\"openpyxl\")\n",
    "print(df.head())\n",
    "\n",
    "df = df[['词语', '词性种类', '词义数', '词义序号', '情感分类', '强度', '极性']]\n",
    "df.head()\n",
    "\n",
    "#-------------------------------------七种情绪的运用-------------------------------\n",
    "Happy = []\n",
    "Good = []\n",
    "Surprise = []\n",
    "Anger = []\n",
    "Sad = []\n",
    "Fear = []\n",
    "Disgust = []\n",
    "\n",
    "#df.iterrows()功能是迭代遍历每一行\n",
    "for row in df.iterrows():\n",
    "    if row[1]['情感分类'] in ['PA', 'PE']:\n",
    "        Happy.append(row[1]['词语'])\n",
    "    if row[1]['情感分类'] in ['PD', 'PH', 'PG', 'PB', 'PK']:\n",
    "        Good.append(row[1]['词语']) \n",
    "    if row[1]['情感分类'] in ['PC']:\n",
    "        Surprise.append(row[1]['词语'])       \n",
    "    if row[1]['情感分类'] in ['NB', 'NJ', 'NH', 'PF']:\n",
    "        Sad.append(row[1]['词语'])\n",
    "    if row[1]['情感分类'] in ['NI', 'NC', 'NG']:\n",
    "        Fear.append(row[1]['词语'])\n",
    "    if row[1]['情感分类'] in ['NE', 'ND', 'NN', 'NK', 'NL']:\n",
    "        Disgust.append(row[1]['词语'])\n",
    "    if row[1]['情感分类'] in ['NAU']:     #修改: 原NA算出来没结果\n",
    "        Anger.append(row[1]['词语'])  \n",
    "\n",
    "#正负计算不是很准 自己可以制定规则       \n",
    "Positive = Happy + Good + Surprise\n",
    "Negative = Anger + Sad + Fear + Disgust\n",
    "print('情绪词语列表整理完成')  \n",
    "\n",
    "#---------------------------------------中文分词---------------------------------\n",
    "with open('../../../datasets/停用词表.txt', 'r') as f:\n",
    "    stop_list = [line.strip('\\n') for line in f if line]\n"
   ]
  },
  {
   "cell_type": "code",
   "execution_count": 129,
   "metadata": {
    "scrolled": true
   },
   "outputs": [],
   "source": [
    "def txt_cut(text):\n",
    "#     return [w for w in jieba.cut(text, cut_all=True) if w not in stop_list]\n",
    "    return [w for w in jieba.cut(text, cut_all=True)]\n",
    "\n",
    "#情感统计\n",
    "def emotion_caculate(text):\n",
    "    positive = 0\n",
    "    negative = 0\n",
    "    \n",
    "    anger = 0\n",
    "    disgust = 0\n",
    "    fear = 0\n",
    "    sad = 0\n",
    "    surprise = 0\n",
    "    good = 0\n",
    "    happy = 0\n",
    "    \n",
    "    word_list = txt_cut(text)\n",
    "    word_set = set(word_list)\n",
    "    for word in word_set:\n",
    "        freq = word_list.count(word)\n",
    "        tlist = []\n",
    "        if word in Anger:\n",
    "            anger+=freq\n",
    "            negative+=freq*3\n",
    "        if word in Disgust:\n",
    "            disgust+=freq\n",
    "            negative+=freq*2\n",
    "        if word in Fear:\n",
    "            fear+=freq\n",
    "            negative+=freq*2\n",
    "        if word in Sad:\n",
    "            sad+=freq\n",
    "            negative+=freq*1\n",
    "        if word in Surprise:\n",
    "            surprise+=freq\n",
    "            positive+=freq*2\n",
    "        if word in Good:\n",
    "            good+=freq\n",
    "            positive+=freq*1\n",
    "        if word in Happy:\n",
    "            happy+=freq\n",
    "            positive+=freq*3\n",
    "            \n",
    "    emotion_info = {\n",
    "        'length':len(word_list),\n",
    "        'positive': positive,\n",
    "        'negative': negative,\n",
    "        'anger': anger,\n",
    "        'disgust': disgust,\n",
    "        'fear':fear,\n",
    "        'good':good,\n",
    "        'sadness':sad,\n",
    "        'surprise':surprise,\n",
    "        'happy':happy,\n",
    "    }\n",
    "    emotion = [positive, negative, anger, disgust, fear, good, sad, surprise, happy]\n",
    "    return emotion\n",
    "#---------------------------------------情感计算-------------------------z--------\n",
    "   \n",
    "emotion_df = [emotion_caculate(r) for r in weibo_df['review']]\n",
    "\n",
    "#输出结果\n",
    "\n",
    "# output_df.to_csv('庆余年220_emotion.csv',encoding='utf_8_sig', index=False)"
   ]
  },
  {
   "cell_type": "code",
   "execution_count": 130,
   "metadata": {},
   "outputs": [],
   "source": [
    "emotion_df = pd.DataFrame(emotion_df, columns=['positive', 'negative', 'anger', 'disgust','fear','good','sad', 'surprise', 'happy'])"
   ]
  },
  {
   "cell_type": "code",
   "execution_count": 131,
   "metadata": {},
   "outputs": [
    {
     "data": {
      "text/plain": [
       "[0, 0, 0, 0, 0, 0, 0, 0, 0]"
      ]
     },
     "execution_count": 131,
     "metadata": {},
     "output_type": "execute_result"
    }
   ],
   "source": [
    "emotion_caculate(weibo_df.review[9])"
   ]
  },
  {
   "cell_type": "code",
   "execution_count": 132,
   "metadata": {},
   "outputs": [
    {
     "data": {
      "text/html": [
       "<div>\n",
       "<style scoped>\n",
       "    .dataframe tbody tr th:only-of-type {\n",
       "        vertical-align: middle;\n",
       "    }\n",
       "\n",
       "    .dataframe tbody tr th {\n",
       "        vertical-align: top;\n",
       "    }\n",
       "\n",
       "    .dataframe thead th {\n",
       "        text-align: right;\n",
       "    }\n",
       "</style>\n",
       "<table border=\"1\" class=\"dataframe\">\n",
       "  <thead>\n",
       "    <tr style=\"text-align: right;\">\n",
       "      <th></th>\n",
       "      <th>positive</th>\n",
       "      <th>negative</th>\n",
       "      <th>anger</th>\n",
       "      <th>disgust</th>\n",
       "      <th>fear</th>\n",
       "      <th>good</th>\n",
       "      <th>sad</th>\n",
       "      <th>surprise</th>\n",
       "      <th>happy</th>\n",
       "    </tr>\n",
       "  </thead>\n",
       "  <tbody>\n",
       "    <tr>\n",
       "      <th>0</th>\n",
       "      <td>0</td>\n",
       "      <td>0</td>\n",
       "      <td>0</td>\n",
       "      <td>0</td>\n",
       "      <td>0</td>\n",
       "      <td>0</td>\n",
       "      <td>0</td>\n",
       "      <td>0</td>\n",
       "      <td>0</td>\n",
       "    </tr>\n",
       "    <tr>\n",
       "      <th>1</th>\n",
       "      <td>0</td>\n",
       "      <td>2</td>\n",
       "      <td>0</td>\n",
       "      <td>1</td>\n",
       "      <td>0</td>\n",
       "      <td>0</td>\n",
       "      <td>0</td>\n",
       "      <td>0</td>\n",
       "      <td>0</td>\n",
       "    </tr>\n",
       "    <tr>\n",
       "      <th>2</th>\n",
       "      <td>2</td>\n",
       "      <td>0</td>\n",
       "      <td>0</td>\n",
       "      <td>0</td>\n",
       "      <td>0</td>\n",
       "      <td>0</td>\n",
       "      <td>0</td>\n",
       "      <td>1</td>\n",
       "      <td>0</td>\n",
       "    </tr>\n",
       "    <tr>\n",
       "      <th>3</th>\n",
       "      <td>0</td>\n",
       "      <td>0</td>\n",
       "      <td>0</td>\n",
       "      <td>0</td>\n",
       "      <td>0</td>\n",
       "      <td>0</td>\n",
       "      <td>0</td>\n",
       "      <td>0</td>\n",
       "      <td>0</td>\n",
       "    </tr>\n",
       "    <tr>\n",
       "      <th>4</th>\n",
       "      <td>1</td>\n",
       "      <td>2</td>\n",
       "      <td>0</td>\n",
       "      <td>1</td>\n",
       "      <td>0</td>\n",
       "      <td>1</td>\n",
       "      <td>0</td>\n",
       "      <td>0</td>\n",
       "      <td>0</td>\n",
       "    </tr>\n",
       "    <tr>\n",
       "      <th>5</th>\n",
       "      <td>0</td>\n",
       "      <td>0</td>\n",
       "      <td>0</td>\n",
       "      <td>0</td>\n",
       "      <td>0</td>\n",
       "      <td>0</td>\n",
       "      <td>0</td>\n",
       "      <td>0</td>\n",
       "      <td>0</td>\n",
       "    </tr>\n",
       "    <tr>\n",
       "      <th>6</th>\n",
       "      <td>0</td>\n",
       "      <td>0</td>\n",
       "      <td>0</td>\n",
       "      <td>0</td>\n",
       "      <td>0</td>\n",
       "      <td>0</td>\n",
       "      <td>0</td>\n",
       "      <td>0</td>\n",
       "      <td>0</td>\n",
       "    </tr>\n",
       "    <tr>\n",
       "      <th>7</th>\n",
       "      <td>0</td>\n",
       "      <td>0</td>\n",
       "      <td>0</td>\n",
       "      <td>0</td>\n",
       "      <td>0</td>\n",
       "      <td>0</td>\n",
       "      <td>0</td>\n",
       "      <td>0</td>\n",
       "      <td>0</td>\n",
       "    </tr>\n",
       "    <tr>\n",
       "      <th>8</th>\n",
       "      <td>1</td>\n",
       "      <td>0</td>\n",
       "      <td>0</td>\n",
       "      <td>0</td>\n",
       "      <td>0</td>\n",
       "      <td>1</td>\n",
       "      <td>0</td>\n",
       "      <td>0</td>\n",
       "      <td>0</td>\n",
       "    </tr>\n",
       "    <tr>\n",
       "      <th>9</th>\n",
       "      <td>0</td>\n",
       "      <td>0</td>\n",
       "      <td>0</td>\n",
       "      <td>0</td>\n",
       "      <td>0</td>\n",
       "      <td>0</td>\n",
       "      <td>0</td>\n",
       "      <td>0</td>\n",
       "      <td>0</td>\n",
       "    </tr>\n",
       "    <tr>\n",
       "      <th>10</th>\n",
       "      <td>0</td>\n",
       "      <td>0</td>\n",
       "      <td>0</td>\n",
       "      <td>0</td>\n",
       "      <td>0</td>\n",
       "      <td>0</td>\n",
       "      <td>0</td>\n",
       "      <td>0</td>\n",
       "      <td>0</td>\n",
       "    </tr>\n",
       "    <tr>\n",
       "      <th>11</th>\n",
       "      <td>1</td>\n",
       "      <td>2</td>\n",
       "      <td>0</td>\n",
       "      <td>1</td>\n",
       "      <td>0</td>\n",
       "      <td>1</td>\n",
       "      <td>0</td>\n",
       "      <td>0</td>\n",
       "      <td>0</td>\n",
       "    </tr>\n",
       "    <tr>\n",
       "      <th>12</th>\n",
       "      <td>0</td>\n",
       "      <td>0</td>\n",
       "      <td>0</td>\n",
       "      <td>0</td>\n",
       "      <td>0</td>\n",
       "      <td>0</td>\n",
       "      <td>0</td>\n",
       "      <td>0</td>\n",
       "      <td>0</td>\n",
       "    </tr>\n",
       "    <tr>\n",
       "      <th>13</th>\n",
       "      <td>4</td>\n",
       "      <td>0</td>\n",
       "      <td>0</td>\n",
       "      <td>0</td>\n",
       "      <td>0</td>\n",
       "      <td>1</td>\n",
       "      <td>0</td>\n",
       "      <td>0</td>\n",
       "      <td>1</td>\n",
       "    </tr>\n",
       "    <tr>\n",
       "      <th>14</th>\n",
       "      <td>0</td>\n",
       "      <td>0</td>\n",
       "      <td>0</td>\n",
       "      <td>0</td>\n",
       "      <td>0</td>\n",
       "      <td>0</td>\n",
       "      <td>0</td>\n",
       "      <td>0</td>\n",
       "      <td>0</td>\n",
       "    </tr>\n",
       "    <tr>\n",
       "      <th>15</th>\n",
       "      <td>2</td>\n",
       "      <td>2</td>\n",
       "      <td>0</td>\n",
       "      <td>1</td>\n",
       "      <td>0</td>\n",
       "      <td>2</td>\n",
       "      <td>0</td>\n",
       "      <td>0</td>\n",
       "      <td>0</td>\n",
       "    </tr>\n",
       "    <tr>\n",
       "      <th>16</th>\n",
       "      <td>1</td>\n",
       "      <td>0</td>\n",
       "      <td>0</td>\n",
       "      <td>0</td>\n",
       "      <td>0</td>\n",
       "      <td>1</td>\n",
       "      <td>0</td>\n",
       "      <td>0</td>\n",
       "      <td>0</td>\n",
       "    </tr>\n",
       "    <tr>\n",
       "      <th>17</th>\n",
       "      <td>1</td>\n",
       "      <td>0</td>\n",
       "      <td>0</td>\n",
       "      <td>0</td>\n",
       "      <td>0</td>\n",
       "      <td>1</td>\n",
       "      <td>0</td>\n",
       "      <td>0</td>\n",
       "      <td>0</td>\n",
       "    </tr>\n",
       "    <tr>\n",
       "      <th>18</th>\n",
       "      <td>1</td>\n",
       "      <td>0</td>\n",
       "      <td>0</td>\n",
       "      <td>0</td>\n",
       "      <td>0</td>\n",
       "      <td>1</td>\n",
       "      <td>0</td>\n",
       "      <td>0</td>\n",
       "      <td>0</td>\n",
       "    </tr>\n",
       "    <tr>\n",
       "      <th>19</th>\n",
       "      <td>1</td>\n",
       "      <td>0</td>\n",
       "      <td>0</td>\n",
       "      <td>0</td>\n",
       "      <td>0</td>\n",
       "      <td>1</td>\n",
       "      <td>0</td>\n",
       "      <td>0</td>\n",
       "      <td>0</td>\n",
       "    </tr>\n",
       "  </tbody>\n",
       "</table>\n",
       "</div>"
      ],
      "text/plain": [
       "    positive  negative  anger  disgust  fear  good  sad  surprise  happy\n",
       "0          0         0      0        0     0     0    0         0      0\n",
       "1          0         2      0        1     0     0    0         0      0\n",
       "2          2         0      0        0     0     0    0         1      0\n",
       "3          0         0      0        0     0     0    0         0      0\n",
       "4          1         2      0        1     0     1    0         0      0\n",
       "5          0         0      0        0     0     0    0         0      0\n",
       "6          0         0      0        0     0     0    0         0      0\n",
       "7          0         0      0        0     0     0    0         0      0\n",
       "8          1         0      0        0     0     1    0         0      0\n",
       "9          0         0      0        0     0     0    0         0      0\n",
       "10         0         0      0        0     0     0    0         0      0\n",
       "11         1         2      0        1     0     1    0         0      0\n",
       "12         0         0      0        0     0     0    0         0      0\n",
       "13         4         0      0        0     0     1    0         0      1\n",
       "14         0         0      0        0     0     0    0         0      0\n",
       "15         2         2      0        1     0     2    0         0      0\n",
       "16         1         0      0        0     0     1    0         0      0\n",
       "17         1         0      0        0     0     1    0         0      0\n",
       "18         1         0      0        0     0     1    0         0      0\n",
       "19         1         0      0        0     0     1    0         0      0"
      ]
     },
     "execution_count": 132,
     "metadata": {},
     "output_type": "execute_result"
    }
   ],
   "source": [
    "emotion_df.head(20)"
   ]
  },
  {
   "cell_type": "code",
   "execution_count": 133,
   "metadata": {},
   "outputs": [
    {
     "data": {
      "text/plain": [
       "'哈哈哈哈哈哈哈哈哈哈'"
      ]
     },
     "execution_count": 133,
     "metadata": {},
     "output_type": "execute_result"
    }
   ],
   "source": [
    "weibo_df.review[9]"
   ]
  },
  {
   "cell_type": "code",
   "execution_count": 138,
   "metadata": {},
   "outputs": [
    {
     "name": "stdout",
     "output_type": "stream",
     "text": [
      "哈哈哈哈\n",
      "哈哈哈\n",
      "哈哈哈\n"
     ]
    }
   ],
   "source": [
    "for i in jieba.cut('哈哈哈哈哈哈哈哈哈哈'):\n",
    "    print(i)"
   ]
  },
  {
   "cell_type": "code",
   "execution_count": 104,
   "metadata": {},
   "outputs": [
    {
     "data": {
      "text/plain": [
       "[0, 0, 0, 0, 0, 0, 0, 0, 0]"
      ]
     },
     "execution_count": 104,
     "metadata": {},
     "output_type": "execute_result"
    }
   ],
   "source": [
    "emotion_caculate('哈哈哈哈哈哈哈哈哈哈哈哈')"
   ]
  },
  {
   "cell_type": "code",
   "execution_count": 134,
   "metadata": {},
   "outputs": [],
   "source": [
    "from ltp import LTP\n",
    "ltp = LTP() # 默认加载 Small 模型\n",
    "seg, hidden = ltp.seg(['哈哈哈哈哈哈哈哈哈哈'])"
   ]
  },
  {
   "cell_type": "code",
   "execution_count": 126,
   "metadata": {},
   "outputs": [
    {
     "data": {
      "text/plain": [
       "['他', '叫', '汤', '姆', '去', '拿', '外', '衣']"
      ]
     },
     "execution_count": 126,
     "metadata": {},
     "output_type": "execute_result"
    }
   ],
   "source": [
    "ltp.sent_split('他叫汤姆去拿外衣')"
   ]
  },
  {
   "cell_type": "code",
   "execution_count": 136,
   "metadata": {},
   "outputs": [
    {
     "data": {
      "text/plain": [
       "[['哈哈哈哈哈哈哈哈哈哈']]"
      ]
     },
     "execution_count": 136,
     "metadata": {},
     "output_type": "execute_result"
    }
   ],
   "source": [
    "seg"
   ]
  },
  {
   "cell_type": "code",
   "execution_count": null,
   "metadata": {},
   "outputs": [],
   "source": []
  }
 ],
 "metadata": {
  "kernelspec": {
   "display_name": "Python 3.7.7 64-bit ('ml': conda)",
   "language": "python",
   "name": "python37764bitmlconda34f4c0e8019f49848bc5a3e96f43aeac"
  },
  "language_info": {
   "codemirror_mode": {
    "name": "ipython",
    "version": 3
   },
   "file_extension": ".py",
   "mimetype": "text/x-python",
   "name": "python",
   "nbconvert_exporter": "python",
   "pygments_lexer": "ipython3",
   "version": "3.7.7"
  }
 },
 "nbformat": 4,
 "nbformat_minor": 4
}
